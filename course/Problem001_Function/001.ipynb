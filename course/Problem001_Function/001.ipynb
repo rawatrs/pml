{
  "nbformat": 4,
  "nbformat_minor": 0,
  "metadata": {
    "kernelspec": {
      "display_name": "Python 3",
      "language": "python",
      "name": "python3"
    },
    "language_info": {
      "codemirror_mode": {
        "name": "ipython",
        "version": 3
      },
      "file_extension": ".py",
      "mimetype": "text/x-python",
      "name": "python",
      "nbconvert_exporter": "python",
      "pygments_lexer": "ipython3",
      "version": "3.6.5"
    },
    "colab": {
      "name": "001.ipynb",
      "provenance": [],
      "include_colab_link": true
    }
  },
  "cells": [
    {
      "cell_type": "markdown",
      "metadata": {
        "id": "view-in-github",
        "colab_type": "text"
      },
      "source": [
        "<a href=\"https://colab.research.google.com/github/rawatrs/pml/blob/master/course/Problem001_Function/001.ipynb\" target=\"_parent\"><img src=\"https://colab.research.google.com/assets/colab-badge.svg\" alt=\"Open In Colab\"/></a>"
      ]
    },
    {
      "cell_type": "markdown",
      "metadata": {
        "id": "C_a9pRFhic6L"
      },
      "source": [
        "## Problem 1.1 Functions\n",
        "\n",
        "implement following simple functions *square*, *average*, *times2*"
      ]
    },
    {
      "cell_type": "code",
      "metadata": {
        "id": "NawKEoyeic6c"
      },
      "source": [
        "def square(x):\n",
        "    #TBD\n",
        "    return x*x\n",
        "  \n",
        "\n",
        "def times2(x):\n",
        "    return x*2\n",
        "\n",
        "def average(x1, x2, x3, x4, x5):\n",
        "    return (x1 + x2 + x3 + x4 + x5)/5"
      ],
      "execution_count": 8,
      "outputs": []
    },
    {
      "cell_type": "code",
      "metadata": {
        "id": "HPooapzUi9Ot",
        "outputId": "fff652bc-52ee-470c-c81b-f1ce3f1cccdd",
        "colab": {
          "base_uri": "https://localhost:8080/",
          "height": 68
        }
      },
      "source": [
        "a = 4\n",
        "print(f\"Square : {square(a)}\")\n",
        "print(\"Times2 : \" + str(times2(3)))\n",
        "print(\"Average : \" + str(average(12, 14, 16, 18, 20)))"
      ],
      "execution_count": 17,
      "outputs": [
        {
          "output_type": "stream",
          "text": [
            "Square : 16\n",
            "Times2 : 6\n",
            "Average : 16.0\n"
          ],
          "name": "stdout"
        }
      ]
    }
  ]
}