{
  "nbformat": 4,
  "nbformat_minor": 0,
  "metadata": {
    "kernelspec": {
      "display_name": "Python 3",
      "language": "python",
      "name": "python3"
    },
    "language_info": {
      "codemirror_mode": {
        "name": "ipython",
        "version": 3
      },
      "file_extension": ".py",
      "mimetype": "text/x-python",
      "name": "python",
      "nbconvert_exporter": "python",
      "pygments_lexer": "ipython3",
      "version": "3.8.2-final"
    },
    "colab": {
      "name": "Copy of 007.ipynb",
      "provenance": [],
      "include_colab_link": true
    }
  },
  "cells": [
    {
      "cell_type": "markdown",
      "metadata": {
        "id": "view-in-github",
        "colab_type": "text"
      },
      "source": [
        "<a href=\"https://colab.research.google.com/github/rawatrs/pml/blob/master/course/Problem007_Error/007.ipynb\" target=\"_parent\"><img src=\"https://colab.research.google.com/assets/colab-badge.svg\" alt=\"Open In Colab\"/></a>"
      ]
    },
    {
      "cell_type": "markdown",
      "metadata": {
        "id": "UlvmHJhmA4Ge"
      },
      "source": [
        "##  $\\hat{y}$ (y_hat)"
      ]
    },
    {
      "cell_type": "code",
      "metadata": {
        "scrolled": true,
        "id": "-jqArGd9A4Gg"
      },
      "source": [
        "'''\n",
        "+--------------+\n",
        "| f            |\n",
        "+--------------+\n",
        "| x1 | x2 | y  |\n",
        "+----+----+----+\n",
        "| 2  | 3  | 4  |\n",
        "+----+----+----+\n",
        "| 8  | 5  | 10  |\n",
        "+----+----+----+\n",
        "| 6  | 4  | 6  |\n",
        "+----+----+----+\n",
        "| 10 | 2  | 8  |\n",
        "+----+----+----+\n",
        "| 4  | 2  | 3  |\n",
        "+----+----+----+\n",
        "| 16 | 7  | 1 |\n",
        "+----+----+----+\n",
        "'''\n",
        "\n",
        "X = [\n",
        "    [2, 3],\n",
        "    [8, 5],\n",
        "    [6, 4],\n",
        "    [10, 2],\n",
        "    [4, 2],\n",
        "    [16, 7]\n",
        "]\n",
        "\n",
        "Y = [4, 10, 6, 8, 3, 1]\n",
        "\n",
        "\n",
        "def f_hat(x1, x2):\n",
        "    return int(x1/2 + x2)\n",
        "\n",
        "#TBD Compute Y_hat where y_hat = f_hat(x1, x2)\n",
        "from sklearn import linear_model\n",
        "model = linear_model.LinearRegression()\n",
        "\n",
        "model.fit()\n"
      ],
      "execution_count": null,
      "outputs": []
    },
    {
      "cell_type": "markdown",
      "metadata": {
        "id": "y2UjVXLrA4Gl"
      },
      "source": [
        "## How far off are we? (Y vs $\\hat{Y}$)"
      ]
    },
    {
      "cell_type": "code",
      "metadata": {
        "id": "iwpOEOpHA4Gm"
      },
      "source": [
        "#TBD Compute Total(sum) Error between Y and Y_hat \n",
        "#TBD Compute Total absolute Error between Y and Y_hat \n",
        "#TBD Compute Mean absolute Error between Y and Y_hat \n",
        "#TBD Compute Mean Squared Error between Y and Y_hat"
      ],
      "execution_count": null,
      "outputs": []
    },
    {
      "cell_type": "code",
      "metadata": {
        "id": "CaMcTTfSA4Gs"
      },
      "source": [
        "from sklearn.metrics import mean_absolute_error mean_squared_error\n",
        "#Use sklearn\n",
        "#TBD Compute Mean absolute Error between Y and Y_hat \n",
        "#TBD Compute Mean squared Error between Y and Y_hat"
      ],
      "execution_count": null,
      "outputs": []
    }
  ]
}