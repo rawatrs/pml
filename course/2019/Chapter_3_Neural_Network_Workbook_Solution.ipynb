{
 "cells": [
  {
   "cell_type": "markdown",
   "metadata": {},
   "source": [
    "### Backpropagation\n",
    "\n",
    "**Problem 1**: What is being back propagated?\n",
    "\n",
    "**Problem 2**: In the following setup \n",
    "     \n",
    "<img src=\"../img/nn_backprop_simplest1.png\" alt=\"drawing\" width=\"400\"/>\n",
    "\n",
    "     - How many functions are involved?\n",
    "     - How many weights are involved?\n",
    "     - With only one training sample x=3, y=2 and weights w1=0.5, w2=0.8 Whats y_hat?\n",
    "     - Whats the MSE Cost?\n",
    "     \n",
    "**Solution 2**: \n",
    "    - 5 Functions: z1, a1, z2, y_hat, J \n",
    "    - 2 Weights: w1, w2\n",
    "    -\n",
    "<img src=\"../img/nn_backprop_fwd1.png\" alt=\"drawing\" width=\"400\"/>\n",
    "\n",
    "\n",
    "\n",
    "\n",
    "**Problem 3**: \n",
    "\n",
    "Just expanded the above neural network to show weighted sum and activation components\n",
    "\n",
    "<img src=\"../img/nn_backprop_simplest_expanded1.png\" alt=\"drawing\" width=\"400\"/>\n",
    "\n",
    "To go backward, compute the following for previously given weights and training sample\n",
    "     \n",
    " $\\begin{align}\\frac{dJ}{d\\hat{y}}\\end{align}$\n",
    " $\\begin{align}\\frac{d\\hat{y}}{dz2}\\end{align}$\n",
    " $\\begin{align}\\frac{dz2}{dw2}\\end{align}$\n",
    " $\\begin{align}\\frac{dz2}{da1}\\end{align}$\n",
    " $\\begin{align}\\frac{da1}{dz1}\\end{align}$\n",
    " $\\begin{align}\\frac{dz1}{dw1}\\end{align}$\n",
    "\n",
    "**Solution 3**:\n",
    "\n",
    "<img src=\"../img/nn_backprop_derivatives.png\" alt=\"drawing\" width=\"400\"/>\n",
    "\n",
    " \n",
    " **Problem 4**: \n",
    " \n",
    " Whole purpose of back propagation or this notebook is to compute \n",
    " _**how cost changes with weights**_ i.e\n",
    " \n",
    " $\\begin{align}\\frac{dJ}{d weights}\\end{align}$\n",
    " \n",
    " \n",
    "What are the values of:\n",
    " \n",
    "a) $\\begin{align}\\frac{dJ}{dw1}\\end{align}$\n",
    "  \n",
    "  \n",
    "b) $\\begin{align}\\frac{dJ}{dw2}\\end{align}$\n",
    "  \n",
    "_(Hint: Use Chain Rule & Problem 3 results)_\n",
    " \n",
    "**Solution 4**:\n",
    "\n",
    "<img src=\"../img/nn_backprop2.png\" alt=\"drawing\" width=\"400\"/>\n",
    "\n",
    " "
   ]
  },
  {
   "cell_type": "markdown",
   "metadata": {},
   "source": [
    "# 5. Update Weights\n",
    "\n",
    "**Problem 1**: In the above problem after you have computed \n",
    "$\\begin{align}\\frac{dJ}{dw1}\\end{align}$ and\n",
    "$\\begin{align}\\frac{dJ}{dw2}\\end{align}$\n",
    "\n",
    "what are new weights if the learning rate is 0.1\n",
    "\n",
    "**Solution 1:**\n",
    "<img src=\"../img/nn_backprop_weight_update4.png\" alt=\"drawing\" width=\"400\"/>"
   ]
  },
  {
   "cell_type": "markdown",
   "metadata": {},
   "source": [
    "# Forward Again\n",
    "\n",
    "** Problem 1 **: Plug in those new weights and check if the cost is reduced.\n",
    "\n",
    "** Solution 1 **:\n",
    "\n",
    "<img src=\"../img/nn_backprop_fwd2.png\" alt=\"drawing\" width=\"400\"/>"
   ]
  }
 ],
 "metadata": {
  "kernelspec": {
   "display_name": "Python 3",
   "language": "python",
   "name": "python3"
  },
  "language_info": {
   "codemirror_mode": {
    "name": "ipython",
    "version": 3
   },
   "file_extension": ".py",
   "mimetype": "text/x-python",
   "name": "python",
   "nbconvert_exporter": "python",
   "pygments_lexer": "ipython3",
   "version": "3.6.5"
  }
 },
 "nbformat": 4,
 "nbformat_minor": 2
}
