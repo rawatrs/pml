{
 "cells": [
  {
   "cell_type": "code",
   "execution_count": 4,
   "metadata": {},
   "outputs": [],
   "source": [
    "# Imports\n",
    "import numpy as np\n",
    "from keras.datasets import mnist\n",
    "from keras.models import Sequential\n",
    "from keras.layers.core import Dense, Activation\n",
    "from keras.optimizers import SGD\n",
    "from keras.utils import np_utils"
   ]
  },
  {
   "cell_type": "code",
   "execution_count": 21,
   "metadata": {},
   "outputs": [
    {
     "name": "stdout",
     "output_type": "stream",
     "text": [
      "y = 2\n",
      "y encoded = [0. 0. 1. 0. 0. 0. 0. 0. 0. 0.]\n"
     ]
    },
    {
     "data": {
      "image/png": "[encoded data removed]",
      "text/plain": [
       "<Figure size 432x288 with 1 Axes>"
      ]
     },
     "metadata": {
      "needs_background": "light"
     },
     "output_type": "display_data"
    }
   ],
   "source": [
    "import matplotlib.pyplot as plt\n",
    "# data: shuffled and split between train and test sets\n",
    "(X_train, y_train), (X_test, y_test) = mnist.load_data()\n",
    "\n",
    "#visualize a given image\n",
    "image_index = 1549\n",
    "plt.imshow(X_train[image_index], cmap='Greys')\n",
    "encoded_y = np_utils.to_categorical(y_train[image_index], 10)\n",
    "print(\"y = \"+ str(y_train[image_index]))\n",
    "print(\"y encoded = \"+ str(encoded_y))"
   ]
  },
  {
   "cell_type": "code",
   "execution_count": 16,
   "metadata": {},
   "outputs": [
    {
     "name": "stdout",
     "output_type": "stream",
     "text": [
      "60000 train samples\n",
      "10000 test samples\n",
      "[0. 0. 0. 0. 0. 0. 0. 1. 0. 0.]\n",
      "_________________________________________________________________\n",
      "Layer (type)                 Output Shape              Param #   \n",
      "=================================================================\n",
      "dense_26 (Dense)             (None, 40)                31400     \n",
      "_________________________________________________________________\n",
      "dense_27 (Dense)             (None, 20)                820       \n",
      "_________________________________________________________________\n",
      "dense_28 (Dense)             (None, 10)                210       \n",
      "=================================================================\n",
      "Total params: 32,430\n",
      "Trainable params: 32,430\n",
      "Non-trainable params: 0\n",
      "_________________________________________________________________\n",
      "Train on 48000 samples, validate on 12000 samples\n",
      "Epoch 1/20\n",
      "48000/48000 [==============================] - 2s 42us/step - loss: 2.3019 - acc: 0.1180 - val_loss: 2.3018 - val_acc: 0.1060\n",
      "Epoch 2/20\n",
      "48000/48000 [==============================] - 1s 30us/step - loss: 2.3014 - acc: 0.1140 - val_loss: 2.3016 - val_acc: 0.1060\n",
      "Epoch 3/20\n",
      "48000/48000 [==============================] - 1s 29us/step - loss: 2.3011 - acc: 0.1140 - val_loss: 2.3015 - val_acc: 0.1060\n",
      "Epoch 4/20\n",
      "48000/48000 [==============================] - 1s 29us/step - loss: 2.3008 - acc: 0.1140 - val_loss: 2.3014 - val_acc: 0.1060\n",
      "Epoch 5/20\n",
      "48000/48000 [==============================] - 1s 30us/step - loss: 2.3007 - acc: 0.1140 - val_loss: 2.3014 - val_acc: 0.1060\n",
      "Epoch 6/20\n",
      "48000/48000 [==============================] - 1s 30us/step - loss: 2.3006 - acc: 0.1140 - val_loss: 2.3013 - val_acc: 0.1060\n",
      "Epoch 7/20\n",
      "48000/48000 [==============================] - 1s 29us/step - loss: 2.3005 - acc: 0.1140 - val_loss: 2.3013 - val_acc: 0.1060\n",
      "Epoch 8/20\n",
      "48000/48000 [==============================] - 1s 29us/step - loss: 2.3004 - acc: 0.1140 - val_loss: 2.3013 - val_acc: 0.1060\n",
      "Epoch 9/20\n",
      "48000/48000 [==============================] - 1s 29us/step - loss: 2.3004 - acc: 0.1140 - val_loss: 2.3013 - val_acc: 0.1060\n",
      "Epoch 10/20\n",
      "48000/48000 [==============================] - 1s 29us/step - loss: 2.3004 - acc: 0.1140 - val_loss: 2.3013 - val_acc: 0.1060\n",
      "Epoch 11/20\n",
      "48000/48000 [==============================] - 1s 29us/step - loss: 2.3003 - acc: 0.1140 - val_loss: 2.3013 - val_acc: 0.1060\n",
      "Epoch 12/20\n",
      "48000/48000 [==============================] - 1s 30us/step - loss: 2.3003 - acc: 0.1140 - val_loss: 2.3013 - val_acc: 0.1060\n",
      "Epoch 13/20\n",
      "48000/48000 [==============================] - 2s 34us/step - loss: 2.3003 - acc: 0.1140 - val_loss: 2.3013 - val_acc: 0.1060\n",
      "Epoch 14/20\n",
      "48000/48000 [==============================] - 2s 36us/step - loss: 2.3002 - acc: 0.1140 - val_loss: 2.3013 - val_acc: 0.1060\n",
      "Epoch 15/20\n",
      "48000/48000 [==============================] - 1s 30us/step - loss: 2.3002 - acc: 0.1140 - val_loss: 2.3013 - val_acc: 0.1060\n",
      "Epoch 16/20\n",
      "48000/48000 [==============================] - 1s 29us/step - loss: 2.3002 - acc: 0.1140 - val_loss: 2.3012 - val_acc: 0.1060\n",
      "Epoch 17/20\n",
      "48000/48000 [==============================] - 1s 30us/step - loss: 2.3002 - acc: 0.1140 - val_loss: 2.3012 - val_acc: 0.1060\n",
      "Epoch 18/20\n",
      "48000/48000 [==============================] - 1s 29us/step - loss: 2.3001 - acc: 0.1140 - val_loss: 2.3012 - val_acc: 0.1060\n",
      "Epoch 19/20\n",
      "48000/48000 [==============================] - 1s 30us/step - loss: 2.3001 - acc: 0.1140 - val_loss: 2.3012 - val_acc: 0.1060\n",
      "Epoch 20/20\n",
      "48000/48000 [==============================] - 1s 29us/step - loss: 2.3001 - acc: 0.1140 - val_loss: 2.3012 - val_acc: 0.1060\n",
      "10000/10000 [==============================] - 0s 49us/step\n",
      "Test loss: 2.300133403778076\n",
      "Test accuracy: 0.1135\n"
     ]
    }
   ],
   "source": [
    "np.random.seed(1) \n",
    "\n",
    "X_train = X_train.reshape(60000, 28*28)\n",
    "X_test = X_test.reshape(10000, 28*28)\n",
    "X_train = X_train.astype('float32')\n",
    "X_test = X_test.astype('float32')\n",
    "\n",
    "# normalize\n",
    "X_train = X_train/255\n",
    "X_test = X_test/255\n",
    "\n",
    "print(X_train.shape[0], 'train samples')\n",
    "print(X_test.shape[0], 'test samples')\n",
    "\n",
    "# Encode Y as binary class vector\n",
    "Y_train = np_utils.to_categorical(y_train, 10)\n",
    "Y_test = np_utils.to_categorical(y_test, 10)\n",
    "\n",
    "print(Y_test[0])\n",
    "\n",
    "model = Sequential()\n",
    "model.add(Dense(40, activation='relu', input_shape=(28*28,)))\n",
    "model.add(Dense(20, activation='relu'))\n",
    "model.add(Dense(10, activation='sigmoid'))\n",
    "model.summary()\n",
    "\n",
    "model.compile(loss='categorical_crossentropy',\n",
    "                optimizer=SGD(),\n",
    "                metrics=['accuracy'])\n",
    "\n",
    "model.fit(X_train, Y_train,\n",
    "            batch_size=128, epochs=20,\n",
    "            verbose=1, validation_split=0.2)\n",
    "\n",
    "score = model.evaluate(X_test, Y_test, verbose=1)\n",
    "\n",
    "print(\"Test loss:\", score[0])\n",
    "print('Test accuracy:', score[1])"
   ]
  },
  {
   "cell_type": "code",
   "execution_count": null,
   "metadata": {},
   "outputs": [],
   "source": []
  }
 ],
 "metadata": {
  "kernelspec": {
   "display_name": "Python 3",
   "language": "python",
   "name": "python3"
  },
  "language_info": {
   "codemirror_mode": {
    "name": "ipython",
    "version": 3
   },
   "file_extension": ".py",
   "mimetype": "text/x-python",
   "name": "python",
   "nbconvert_exporter": "python",
   "pygments_lexer": "ipython3",
   "version": "3.6.8"
  }
 },
 "nbformat": 4,
 "nbformat_minor": 2
}
