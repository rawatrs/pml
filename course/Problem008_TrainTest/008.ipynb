{
  "nbformat": 4,
  "nbformat_minor": 0,
  "metadata": {
    "kernelspec": {
      "display_name": "Python 3",
      "language": "python",
      "name": "python3"
    },
    "language_info": {
      "codemirror_mode": {
        "name": "ipython",
        "version": 3
      },
      "file_extension": ".py",
      "mimetype": "text/x-python",
      "name": "python",
      "nbconvert_exporter": "python",
      "pygments_lexer": "ipython3",
      "version": "3.8.2-final"
    },
    "colab": {
      "name": "008.ipynb",
      "provenance": [],
      "include_colab_link": true
    }
  },
  "cells": [
    {
      "cell_type": "markdown",
      "metadata": {
        "id": "view-in-github",
        "colab_type": "text"
      },
      "source": [
        "<a href=\"https://colab.research.google.com/github/rawatrs/pml/blob/master/course/Problem008_TrainTest/008.ipynb\" target=\"_parent\"><img src=\"https://colab.research.google.com/assets/colab-badge.svg\" alt=\"Open In Colab\"/></a>"
      ]
    },
    {
      "cell_type": "markdown",
      "metadata": {
        "id": "lXUAGqaOH-XQ"
      },
      "source": [
        "## Train Test Split\n"
      ]
    },
    {
      "cell_type": "code",
      "metadata": {
        "scrolled": true,
        "id": "WRl_4AL_H-XR",
        "outputId": "8704d62e-80de-433f-f923-3ba4d6b22fa4",
        "colab": {
          "base_uri": "https://localhost:8080/"
        }
      },
      "source": [
        "'''\n",
        "+--------------+\n",
        "| f            |\n",
        "+--------------+\n",
        "| x1 | x2 | y  |\n",
        "+----+----+----+\n",
        "| 2  | 3  | 4  |\n",
        "+----+----+----+\n",
        "| 8  | 5  | 10  |\n",
        "+----+----+----+\n",
        "| 6  | 4  | 6  |\n",
        "+----+----+----+\n",
        "| 10 | 2  | 8  |\n",
        "+----+----+----+\n",
        "| 4  | 2  | 3  |\n",
        "+----+----+----+\n",
        "| 16 | 7  | 1 |\n",
        "+----+----+----+\n",
        "'''\n",
        "\n",
        "X = [\n",
        "    [2, 3],\n",
        "    [8, 5],\n",
        "    [6, 4],\n",
        "    [10, 2],\n",
        "    [4, 2],\n",
        "    [16, 7]\n",
        "]\n",
        "\n",
        "Y = [4, 10, 6, 8, 3, 1]\n",
        "\n",
        "#TBD Split X, Y into two dataset pairs of 4 and 2 rows respectively,\n",
        "#(X_train, Y_train) and (X_test, Y_test)"
      ],
      "execution_count": null,
      "outputs": [
        {
          "output_type": "stream",
          "text": [
            "[[4, 2], [16, 7], [6, 4], [2, 3]]\n",
            "[[10, 2], [8, 5]]\n",
            "[3, 1, 6, 4]\n",
            "[8, 10]\n"
          ],
          "name": "stdout"
        }
      ]
    },
    {
      "cell_type": "code",
      "metadata": {
        "id": "LA_QBT5sH-XW",
        "outputId": "5e86c8ce-3fbd-4db2-f3b5-0e0bd0bf2eee",
        "colab": {
          "base_uri": "https://localhost:8080/"
        }
      },
      "source": [
        "from sklearn.model_selection import train_test_split\n",
        "#Use sklearn \n",
        "#TBD Randomly split X, Y into two dataset pairs in 2:1 ratio.\n",
        "X_train, X_test, Y_train, Y_test = train_test_split(X, Y, test_size=0.3)\n",
        "print(X_train)\n",
        "print(X_test)\n",
        "print(Y_train)\n",
        "print(Y_test)"
      ],
      "execution_count": null,
      "outputs": [
        {
          "output_type": "stream",
          "text": [
            "[[4, 2], [6, 4], [2, 3], [16, 7]]\n",
            "[[8, 5], [10, 2]]\n",
            "[3, 6, 4, 1]\n",
            "[10, 8]\n"
          ],
          "name": "stdout"
        }
      ]
    }
  ]
}
