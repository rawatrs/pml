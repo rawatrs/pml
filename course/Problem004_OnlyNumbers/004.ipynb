{
  "nbformat": 4,
  "nbformat_minor": 0,
  "metadata": {
    "kernelspec": {
      "display_name": "Python 3",
      "language": "python",
      "name": "python3"
    },
    "language_info": {
      "codemirror_mode": {
        "name": "ipython",
        "version": 3
      },
      "file_extension": ".py",
      "mimetype": "text/x-python",
      "name": "python",
      "nbconvert_exporter": "python",
      "pygments_lexer": "ipython3",
      "version": "3.6.5"
    },
    "colab": {
      "name": "004.ipynb",
      "provenance": []
    }
  },
  "cells": [
    {
      "cell_type": "markdown",
      "metadata": {
        "scrolled": true,
        "id": "eebUOEH4zTkj"
      },
      "source": [
        "### Features and Target  are (should be) numbers"
      ]
    },
    {
      "cell_type": "markdown",
      "metadata": {
        "id": "GCoD_nPizTlk"
      },
      "source": [
        "#### Text as Features"
      ]
    },
    {
      "cell_type": "code",
      "metadata": {
        "id": "tffAyIfmzTlu"
      },
      "source": [
        "# Lets say your vocabulary consist of only 4 words\n",
        "# \"foo\", \"bar\", \"hello\", \"world\"\n",
        "\n",
        "# If we want to build a dataset of following 4 documents\n",
        "# to be passed to some ML algorithm\n",
        "\n",
        "doc1 = \"foo foo bar\"\n",
        "doc2 = \"foo\"\n",
        "doc3 = \"hello world\"\n",
        "doc4 = \"hello foo\"\n",
        "\n",
        "docs = [doc1, doc2, doc3, doc4]\n",
        "\n",
        "# TBD, convert docs to X, i.e a dataset of features which ML algorithm can understand\n",
        "# by hand\n",
        "\n",
        "X = [ #nBar, nFoo, nHello, nWorld\n",
        "     [1, 2, 0, 0],\n",
        "     [0, 1, 0, 0],\n",
        "     [0, 0, 1, 1],\n",
        "     [0, 1, 1, 0]\n",
        "]\n"
      ],
      "execution_count": null,
      "outputs": []
    },
    {
      "cell_type": "code",
      "metadata": {
        "id": "BL0tDnyEzTmg"
      },
      "source": [
        "# TBD, convert docs to X, i.e a dataset of features which ML algorithm can understand\n",
        "# using CountVectorizer\n",
        "from sklearn.feature_extraction.text import CountVectorizer\n"
      ],
      "execution_count": null,
      "outputs": []
    },
    {
      "cell_type": "markdown",
      "metadata": {
        "id": "Uv6yKA-jzTn8"
      },
      "source": [
        "#### Image as Features"
      ]
    },
    {
      "cell_type": "code",
      "metadata": {
        "id": "b_iwn_xnzToj"
      },
      "source": [
        ""
      ],
      "execution_count": null,
      "outputs": []
    }
  ]
}