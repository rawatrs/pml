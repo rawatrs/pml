{
  "nbformat": 4,
  "nbformat_minor": 0,
  "metadata": {
    "kernelspec": {
      "display_name": "Python 3",
      "language": "python",
      "name": "python3"
    },
    "language_info": {
      "codemirror_mode": {
        "name": "ipython",
        "version": 3
      },
      "file_extension": ".py",
      "mimetype": "text/x-python",
      "name": "python",
      "nbconvert_exporter": "python",
      "pygments_lexer": "ipython3",
      "version": "3.6.5"
    },
    "colab": {
      "name": "002.ipynb",
      "provenance": []
    }
  },
  "cells": [
    {
      "cell_type": "markdown",
      "metadata": {
        "id": "gV1YeJmOplDq"
      },
      "source": [
        "# Load California Housing Dataset\n",
        "\n",
        "https://scikit-learn.org/stable/modules/generated/sklearn.datasets.fetch_california_housing.html"
      ]
    },
    {
      "cell_type": "code",
      "metadata": {
        "id": "bi-nHvFJplEC"
      },
      "source": [
        "from sklearn.datasets import fetch_california_housing\n",
        "house_data = fetch_california_housing()"
      ],
      "execution_count": null,
      "outputs": []
    },
    {
      "cell_type": "code",
      "metadata": {
        "id": "BRDnOyqpplEV",
        "outputId": "dbbd82ef-6b82-4d6b-9b1c-ba9d876a0800",
        "colab": {
          "base_uri": "https://localhost:8080/",
          "height": 85
        }
      },
      "source": [
        "# How many houses are there?\n",
        "# TBD\n",
        "print(dir(house_data))\n",
        "#print(house_data[\"DESCR\"])\n",
        "print(house_data[\"feature_names\"])\n",
        "print(len(house_data[\"feature_names\"]))\n",
        "print(len(house_data[\"data\"]))\n"
      ],
      "execution_count": 17,
      "outputs": [
        {
          "output_type": "stream",
          "text": [
            "['DESCR', 'data', 'feature_names', 'target']\n",
            "['MedInc', 'HouseAge', 'AveRooms', 'AveBedrms', 'Population', 'AveOccup', 'Latitude', 'Longitude']\n",
            "8\n",
            "20640\n"
          ],
          "name": "stdout"
        }
      ]
    },
    {
      "cell_type": "code",
      "metadata": {
        "id": "iYa-kEodplFE"
      },
      "source": [
        "# A house has how many attributes?\n",
        "# TBD"
      ],
      "execution_count": null,
      "outputs": []
    },
    {
      "cell_type": "code",
      "metadata": {
        "id": "gIA5cX1PplFZ"
      },
      "source": [
        "# Whats the average cost of the first house?\n",
        "# TBD"
      ],
      "execution_count": null,
      "outputs": []
    }
  ]
}