{
  "nbformat": 4,
  "nbformat_minor": 0,
  "metadata": {
    "kernelspec": {
      "display_name": "Python 3",
      "language": "python",
      "name": "python3"
    },
    "language_info": {
      "codemirror_mode": {
        "name": "ipython",
        "version": 3
      },
      "file_extension": ".py",
      "mimetype": "text/x-python",
      "name": "python",
      "nbconvert_exporter": "python",
      "pygments_lexer": "ipython3",
      "version": "3.6.5"
    },
    "colab": {
      "name": "002.ipynb",
      "provenance": []
    }
  },
  "cells": [
    {
      "cell_type": "markdown",
      "metadata": {
        "id": "gV1YeJmOplDq"
      },
      "source": [
        "# Load California Housing Dataset\n",
        "\n",
        "https://scikit-learn.org/stable/modules/generated/sklearn.datasets.fetch_california_housing.html"
      ]
    },
    {
      "cell_type": "code",
      "metadata": {
        "id": "bi-nHvFJplEC"
      },
      "source": [
        "from sklearn.datasets import fetch_california_housing\n",
        "house_data = fetch_california_housing()"
      ],
      "execution_count": null,
      "outputs": []
    },
    {
      "cell_type": "code",
      "metadata": {
        "id": "BRDnOyqpplEV",
        "outputId": "a9bb1fa4-c2fa-45f4-eced-6a8bd3d784d5",
        "colab": {
          "base_uri": "https://localhost:8080/",
          "height": 782
        }
      },
      "source": [
        "# How many houses are there?\n",
        "# TBD\n",
        "print(dir(house_data))\n",
        "print(house_data[\"DESCR\"])\n",
        "print(house_data[\"feature_names\"])\n",
        "print(len(house_data[\"feature_names\"]))\n",
        "print(len(house_data[\"data\"]))\n"
      ],
      "execution_count": 18,
      "outputs": [
        {
          "output_type": "stream",
          "text": [
            "['DESCR', 'data', 'feature_names', 'target']\n",
            ".. _california_housing_dataset:\n",
            "\n",
            "California Housing dataset\n",
            "--------------------------\n",
            "\n",
            "**Data Set Characteristics:**\n",
            "\n",
            "    :Number of Instances: 20640\n",
            "\n",
            "    :Number of Attributes: 8 numeric, predictive attributes and the target\n",
            "\n",
            "    :Attribute Information:\n",
            "        - MedInc        median income in block\n",
            "        - HouseAge      median house age in block\n",
            "        - AveRooms      average number of rooms\n",
            "        - AveBedrms     average number of bedrooms\n",
            "        - Population    block population\n",
            "        - AveOccup      average house occupancy\n",
            "        - Latitude      house block latitude\n",
            "        - Longitude     house block longitude\n",
            "\n",
            "    :Missing Attribute Values: None\n",
            "\n",
            "This dataset was obtained from the StatLib repository.\n",
            "http://lib.stat.cmu.edu/datasets/\n",
            "\n",
            "The target variable is the median house value for California districts.\n",
            "\n",
            "This dataset was derived from the 1990 U.S. census, using one row per census\n",
            "block group. A block group is the smallest geographical unit for which the U.S.\n",
            "Census Bureau publishes sample data (a block group typically has a population\n",
            "of 600 to 3,000 people).\n",
            "\n",
            "It can be downloaded/loaded using the\n",
            ":func:`sklearn.datasets.fetch_california_housing` function.\n",
            "\n",
            ".. topic:: References\n",
            "\n",
            "    - Pace, R. Kelley and Ronald Barry, Sparse Spatial Autoregressions,\n",
            "      Statistics and Probability Letters, 33 (1997) 291-297\n",
            "\n",
            "['MedInc', 'HouseAge', 'AveRooms', 'AveBedrms', 'Population', 'AveOccup', 'Latitude', 'Longitude']\n",
            "8\n",
            "20640\n"
          ],
          "name": "stdout"
        }
      ]
    },
    {
      "cell_type": "code",
      "metadata": {
        "id": "iYa-kEodplFE"
      },
      "source": [
        "# A house has how many attributes?\n",
        "# TBD"
      ],
      "execution_count": null,
      "outputs": []
    },
    {
      "cell_type": "code",
      "metadata": {
        "id": "gIA5cX1PplFZ",
        "outputId": "24198909-bd1e-4eef-84f6-96bdc09122bb",
        "colab": {
          "base_uri": "https://localhost:8080/",
          "height": 204
        }
      },
      "source": [
        "# Whats the average cost of the first house?\n",
        "# TBD\n",
        "print(house_data[\"data\"][0:5])\n",
        "print(house_data[\"target\"][0:5])\n"
      ],
      "execution_count": 21,
      "outputs": [
        {
          "output_type": "stream",
          "text": [
            "[[ 8.32520000e+00  4.10000000e+01  6.98412698e+00  1.02380952e+00\n",
            "   3.22000000e+02  2.55555556e+00  3.78800000e+01 -1.22230000e+02]\n",
            " [ 8.30140000e+00  2.10000000e+01  6.23813708e+00  9.71880492e-01\n",
            "   2.40100000e+03  2.10984183e+00  3.78600000e+01 -1.22220000e+02]\n",
            " [ 7.25740000e+00  5.20000000e+01  8.28813559e+00  1.07344633e+00\n",
            "   4.96000000e+02  2.80225989e+00  3.78500000e+01 -1.22240000e+02]\n",
            " [ 5.64310000e+00  5.20000000e+01  5.81735160e+00  1.07305936e+00\n",
            "   5.58000000e+02  2.54794521e+00  3.78500000e+01 -1.22250000e+02]\n",
            " [ 3.84620000e+00  5.20000000e+01  6.28185328e+00  1.08108108e+00\n",
            "   5.65000000e+02  2.18146718e+00  3.78500000e+01 -1.22250000e+02]]\n",
            "[4.526 3.585 3.521 3.413 3.422]\n"
          ],
          "name": "stdout"
        }
      ]
    }
  ]
}