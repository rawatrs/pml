{
  "nbformat": 4,
  "nbformat_minor": 0,
  "metadata": {
    "kernelspec": {
      "display_name": "Python 3",
      "language": "python",
      "name": "python3"
    },
    "language_info": {
      "codemirror_mode": {
        "name": "ipython",
        "version": 3
      },
      "file_extension": ".py",
      "mimetype": "text/x-python",
      "name": "python",
      "nbconvert_exporter": "python",
      "pygments_lexer": "ipython3",
      "version": "3.6.5"
    },
    "colab": {
      "name": "003.ipynb",
      "provenance": []
    }
  },
  "cells": [
    {
      "cell_type": "markdown",
      "metadata": {
        "id": "7XnwPUiKuH10"
      },
      "source": [
        "# Load Boston Housing Dataset\n",
        "https://scikit-learn.org/stable/modules/generated/sklearn.datasets.fetch_california_housing.html"
      ]
    },
    {
      "cell_type": "code",
      "metadata": {
        "scrolled": true,
        "id": "WVPUlj__uH17"
      },
      "source": [
        "from sklearn.datasets import load_boston\n",
        "house_data = load_boston()"
      ],
      "execution_count": null,
      "outputs": []
    },
    {
      "cell_type": "code",
      "metadata": {
        "id": "m1H3j5HHuH2e",
        "outputId": "d3ce9d67-1b4b-4765-dfc3-d03146cc0b5c",
        "colab": {
          "base_uri": "https://localhost:8080/",
          "height": 85
        }
      },
      "source": [
        "# How many houses are there (N)\n",
        "print(dir(house_data))\n",
        "# print(house_data[\"DESCR\"])\n",
        "\n",
        "\n",
        "\n",
        "N = len(house_data[\"data\"])\n",
        "print(f\"Number of houses = {N}\")"
      ],
      "execution_count": 4,
      "outputs": [
        {
          "output_type": "stream",
          "text": [
            "['DESCR', 'data', 'feature_names', 'filename', 'target']\n",
            "['CRIM' 'ZN' 'INDUS' 'CHAS' 'NOX' 'RM' 'AGE' 'DIS' 'RAD' 'TAX' 'PTRATIO'\n",
            " 'B' 'LSTAT']\n",
            "Number of houses = 506\n"
          ],
          "name": "stdout"
        }
      ]
    },
    {
      "cell_type": "code",
      "metadata": {
        "id": "Zqd2Z80duH2n",
        "outputId": "23887b12-7201-4103-fec6-29169946e53d",
        "colab": {
          "base_uri": "https://localhost:8080/",
          "height": 34
        }
      },
      "source": [
        "# A house has how many attributes(or features or signals or dimensions or inputs or x)\n",
        "n = len(house_data[\"feature_names\"])\n",
        "print(f\"Number of house attributes = {n}\")"
      ],
      "execution_count": 5,
      "outputs": [
        {
          "output_type": "stream",
          "text": [
            "Number of house attributes = 13\n"
          ],
          "name": "stdout"
        }
      ]
    },
    {
      "cell_type": "code",
      "metadata": {
        "id": "USFlVMF5uH2x",
        "outputId": "71f23bfa-b8eb-4f24-cbf3-b82b06936d28",
        "colab": {
          "base_uri": "https://localhost:8080/",
          "height": 34
        }
      },
      "source": [
        "# Whats the Median value of the first house (target or label or output y)\n",
        "# TBD\n",
        "print(house_data[\"target\"][0])"
      ],
      "execution_count": 6,
      "outputs": [
        {
          "output_type": "stream",
          "text": [
            "24.0\n"
          ],
          "name": "stdout"
        }
      ]
    },
    {
      "cell_type": "code",
      "metadata": {
        "id": "Cnshd15ruH3k",
        "outputId": "f1d4b2ab-3745-4643-e13e-08a2388dc852",
        "colab": {
          "base_uri": "https://localhost:8080/",
          "height": 68
        }
      },
      "source": [
        "# Whats the value of feature RM (average number of rooms per dwelling) for the last house\n",
        "# TBD\n",
        "print(house_data[\"data\"][-1][5])\n",
        "print(house_data[\"data\"][505])"
      ],
      "execution_count": 8,
      "outputs": [
        {
          "output_type": "stream",
          "text": [
            "6.03\n",
            "[4.741e-02 0.000e+00 1.193e+01 0.000e+00 5.730e-01 6.030e+00 8.080e+01\n",
            " 2.505e+00 1.000e+00 2.730e+02 2.100e+01 3.969e+02 7.880e+00]\n"
          ],
          "name": "stdout"
        }
      ]
    },
    {
      "cell_type": "markdown",
      "metadata": {
        "id": "yw1vqUsXuH4j"
      },
      "source": [
        "\n",
        "$$X^{7} $$\n",
        "#### 8th house all features"
      ]
    },
    {
      "cell_type": "code",
      "metadata": {
        "id": "5wCgy0KiuH4l"
      },
      "source": [
        "# TBD "
      ],
      "execution_count": null,
      "outputs": []
    },
    {
      "cell_type": "markdown",
      "metadata": {
        "id": "PkVky4MzuH41"
      },
      "source": [
        "$$\n",
        "X_{2}^{7}\n",
        "$$\n",
        "#### 8th house 3rd feature\n",
        "(INDUS proportion of non-retail business acres per town)"
      ]
    },
    {
      "cell_type": "code",
      "metadata": {
        "id": "n5GWSfJkuH42"
      },
      "source": [
        "# TBD "
      ],
      "execution_count": null,
      "outputs": []
    },
    {
      "cell_type": "markdown",
      "metadata": {
        "id": "z3yhWjxvuH5H"
      },
      "source": [
        "$$\n",
        "X_{4}\n",
        "$$\n",
        "#### All houses 5th feature \n",
        "(NOX nitric oxides concentration)"
      ]
    },
    {
      "cell_type": "code",
      "metadata": {
        "id": "SIxFwRyDuH5L"
      },
      "source": [
        "# TBD "
      ],
      "execution_count": null,
      "outputs": []
    },
    {
      "cell_type": "markdown",
      "metadata": {
        "id": "npiHfMZEuH5U"
      },
      "source": [
        "$$\n",
        "Y^{4}\n",
        "$$\n",
        "#### Target value for 5th house"
      ]
    },
    {
      "cell_type": "code",
      "metadata": {
        "id": "eFNFuaHduH5V"
      },
      "source": [
        "# TBD"
      ],
      "execution_count": null,
      "outputs": []
    },
    {
      "cell_type": "markdown",
      "metadata": {
        "id": "d_0zdrvYuH5n"
      },
      "source": [
        "Small *x* and *y* are used to represent a *feature* and *target* of a single house\n",
        "#### Which among the following could be valid representation?\n",
        "$$\n",
        "x^{4}\\:, \\: x_{2}\\:,\\:y^{4}\\:,\\:y_{2}\n",
        "$$\n",
        "\n"
      ]
    },
    {
      "cell_type": "code",
      "metadata": {
        "id": "CSCbHwntuH5q"
      },
      "source": [
        ""
      ],
      "execution_count": null,
      "outputs": []
    }
  ]
}