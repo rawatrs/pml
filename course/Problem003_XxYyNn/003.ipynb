{
  "nbformat": 4,
  "nbformat_minor": 0,
  "metadata": {
    "kernelspec": {
      "display_name": "Python 3",
      "language": "python",
      "name": "python3"
    },
    "language_info": {
      "codemirror_mode": {
        "name": "ipython",
        "version": 3
      },
      "file_extension": ".py",
      "mimetype": "text/x-python",
      "name": "python",
      "nbconvert_exporter": "python",
      "pygments_lexer": "ipython3",
      "version": "3.6.5"
    },
    "colab": {
      "name": "003.ipynb",
      "provenance": []
    }
  },
  "cells": [
    {
      "cell_type": "markdown",
      "metadata": {
        "id": "7XnwPUiKuH10"
      },
      "source": [
        "# Load Boston Housing Dataset\n",
        "https://scikit-learn.org/stable/modules/generated/sklearn.datasets.fetch_california_housing.html"
      ]
    },
    {
      "cell_type": "code",
      "metadata": {
        "scrolled": true,
        "id": "WVPUlj__uH17"
      },
      "source": [
        "from sklearn.datasets import load_boston\n",
        "house_data = load_boston()"
      ],
      "execution_count": null,
      "outputs": []
    },
    {
      "cell_type": "code",
      "metadata": {
        "id": "m1H3j5HHuH2e",
        "outputId": "d3ce9d67-1b4b-4765-dfc3-d03146cc0b5c",
        "colab": {
          "base_uri": "https://localhost:8080/",
          "height": 85
        }
      },
      "source": [
        "# How many houses are there (N)\n",
        "print(dir(house_data))\n",
        "# print(house_data[\"DESCR\"])\n",
        "\n",
        "\n",
        "\n",
        "N = len(house_data[\"data\"])\n",
        "print(f\"Number of houses = {N}\")"
      ],
      "execution_count": 4,
      "outputs": [
        {
          "output_type": "stream",
          "text": [
            "['DESCR', 'data', 'feature_names', 'filename', 'target']\n",
            "['CRIM' 'ZN' 'INDUS' 'CHAS' 'NOX' 'RM' 'AGE' 'DIS' 'RAD' 'TAX' 'PTRATIO'\n",
            " 'B' 'LSTAT']\n",
            "Number of houses = 506\n"
          ],
          "name": "stdout"
        }
      ]
    },
    {
      "cell_type": "code",
      "metadata": {
        "id": "Zqd2Z80duH2n",
        "outputId": "23887b12-7201-4103-fec6-29169946e53d",
        "colab": {
          "base_uri": "https://localhost:8080/",
          "height": 34
        }
      },
      "source": [
        "# A house has how many attributes(or features or signals or dimensions or inputs or x)\n",
        "n = len(house_data[\"feature_names\"])\n",
        "print(f\"Number of house attributes = {n}\")"
      ],
      "execution_count": 5,
      "outputs": [
        {
          "output_type": "stream",
          "text": [
            "Number of house attributes = 13\n"
          ],
          "name": "stdout"
        }
      ]
    },
    {
      "cell_type": "code",
      "metadata": {
        "id": "USFlVMF5uH2x",
        "outputId": "71f23bfa-b8eb-4f24-cbf3-b82b06936d28",
        "colab": {
          "base_uri": "https://localhost:8080/",
          "height": 34
        }
      },
      "source": [
        "# Whats the Median value of the first house (target or label or output y)\n",
        "# TBD\n",
        "print(house_data[\"target\"][0])"
      ],
      "execution_count": 6,
      "outputs": [
        {
          "output_type": "stream",
          "text": [
            "24.0\n"
          ],
          "name": "stdout"
        }
      ]
    },
    {
      "cell_type": "code",
      "metadata": {
        "id": "Cnshd15ruH3k",
        "outputId": "f1d4b2ab-3745-4643-e13e-08a2388dc852",
        "colab": {
          "base_uri": "https://localhost:8080/",
          "height": 68
        }
      },
      "source": [
        "# Whats the value of feature RM (average number of rooms per dwelling) for the last house\n",
        "# TBD\n",
        "print(house_data[\"data\"][-1][5])\n",
        "print(house_data[\"data\"][505])"
      ],
      "execution_count": 8,
      "outputs": [
        {
          "output_type": "stream",
          "text": [
            "6.03\n",
            "[4.741e-02 0.000e+00 1.193e+01 0.000e+00 5.730e-01 6.030e+00 8.080e+01\n",
            " 2.505e+00 1.000e+00 2.730e+02 2.100e+01 3.969e+02 7.880e+00]\n"
          ],
          "name": "stdout"
        }
      ]
    },
    {
      "cell_type": "markdown",
      "metadata": {
        "id": "yw1vqUsXuH4j"
      },
      "source": [
        "\n",
        "$$X^{7} $$\n",
        "#### 8th house all features"
      ]
    },
    {
      "cell_type": "code",
      "metadata": {
        "id": "5wCgy0KiuH4l",
        "outputId": "fb4ef5ae-6176-43e4-ba8e-c645d9901770",
        "colab": {
          "base_uri": "https://localhost:8080/",
          "height": 68
        }
      },
      "source": [
        "print(house_data[\"data\"][7])"
      ],
      "execution_count": 9,
      "outputs": [
        {
          "output_type": "stream",
          "text": [
            "[1.4455e-01 1.2500e+01 7.8700e+00 0.0000e+00 5.2400e-01 6.1720e+00\n",
            " 9.6100e+01 5.9505e+00 5.0000e+00 3.1100e+02 1.5200e+01 3.9690e+02\n",
            " 1.9150e+01]\n"
          ],
          "name": "stdout"
        }
      ]
    },
    {
      "cell_type": "markdown",
      "metadata": {
        "id": "PkVky4MzuH41"
      },
      "source": [
        "$$\n",
        "X_{2}^{7}\n",
        "$$\n",
        "#### 8th house 3rd feature\n",
        "(INDUS proportion of non-retail business acres per town)"
      ]
    },
    {
      "cell_type": "code",
      "metadata": {
        "id": "n5GWSfJkuH42",
        "outputId": "24ddb8c2-7a6f-4444-ca56-57f7309d9883",
        "colab": {
          "base_uri": "https://localhost:8080/",
          "height": 34
        }
      },
      "source": [
        "print(house_data[\"data\"][7][2])"
      ],
      "execution_count": 10,
      "outputs": [
        {
          "output_type": "stream",
          "text": [
            "7.87\n"
          ],
          "name": "stdout"
        }
      ]
    },
    {
      "cell_type": "markdown",
      "metadata": {
        "id": "z3yhWjxvuH5H"
      },
      "source": [
        "$$\n",
        "X_{4}\n",
        "$$\n",
        "#### All houses 5th feature \n",
        "(NOX nitric oxides concentration)"
      ]
    },
    {
      "cell_type": "code",
      "metadata": {
        "id": "SIxFwRyDuH5L",
        "outputId": "0cf19302-8fb0-4e78-92b8-a03ed4b43873",
        "colab": {
          "base_uri": "https://localhost:8080/",
          "height": 901
        }
      },
      "source": [
        "print(house_data[\"data\"][:,4])\n",
        "print(len(house_data[\"data\"][:,4]))"
      ],
      "execution_count": 14,
      "outputs": [
        {
          "output_type": "stream",
          "text": [
            "[0.538  0.469  0.469  0.458  0.458  0.458  0.524  0.524  0.524  0.524\n",
            " 0.524  0.524  0.524  0.538  0.538  0.538  0.538  0.538  0.538  0.538\n",
            " 0.538  0.538  0.538  0.538  0.538  0.538  0.538  0.538  0.538  0.538\n",
            " 0.538  0.538  0.538  0.538  0.538  0.499  0.499  0.499  0.499  0.428\n",
            " 0.428  0.448  0.448  0.448  0.448  0.448  0.448  0.448  0.448  0.448\n",
            " 0.439  0.439  0.439  0.439  0.41   0.403  0.41   0.411  0.453  0.453\n",
            " 0.453  0.453  0.453  0.453  0.4161 0.398  0.398  0.409  0.409  0.409\n",
            " 0.413  0.413  0.413  0.413  0.437  0.437  0.437  0.437  0.437  0.437\n",
            " 0.426  0.426  0.426  0.426  0.449  0.449  0.449  0.449  0.489  0.489\n",
            " 0.489  0.489  0.464  0.464  0.464  0.445  0.445  0.445  0.445  0.445\n",
            " 0.52   0.52   0.52   0.52   0.52   0.52   0.52   0.52   0.52   0.52\n",
            " 0.52   0.547  0.547  0.547  0.547  0.547  0.547  0.547  0.547  0.547\n",
            " 0.581  0.581  0.581  0.581  0.581  0.581  0.581  0.624  0.624  0.624\n",
            " 0.624  0.624  0.624  0.624  0.624  0.624  0.624  0.624  0.624  0.624\n",
            " 0.624  0.624  0.871  0.871  0.871  0.871  0.871  0.871  0.871  0.871\n",
            " 0.871  0.871  0.871  0.871  0.871  0.871  0.871  0.605  0.605  0.871\n",
            " 0.605  0.605  0.605  0.605  0.605  0.605  0.605  0.605  0.605  0.605\n",
            " 0.605  0.605  0.51   0.51   0.51   0.51   0.51   0.51   0.51   0.488\n",
            " 0.488  0.488  0.488  0.488  0.488  0.488  0.488  0.437  0.437  0.437\n",
            " 0.437  0.437  0.437  0.401  0.401  0.422  0.404  0.404  0.404  0.403\n",
            " 0.403  0.415  0.415  0.4161 0.4161 0.489  0.489  0.489  0.489  0.489\n",
            " 0.489  0.489  0.489  0.489  0.489  0.489  0.55   0.55   0.55   0.55\n",
            " 0.507  0.507  0.507  0.507  0.504  0.504  0.504  0.504  0.504  0.504\n",
            " 0.504  0.504  0.507  0.507  0.507  0.507  0.507  0.507  0.428  0.428\n",
            " 0.428  0.428  0.428  0.428  0.431  0.431  0.431  0.431  0.431  0.431\n",
            " 0.431  0.431  0.431  0.431  0.392  0.392  0.394  0.647  0.647  0.647\n",
            " 0.647  0.647  0.647  0.647  0.647  0.647  0.647  0.575  0.575  0.464\n",
            " 0.464  0.464  0.464  0.464  0.447  0.447  0.447  0.447  0.447  0.4429\n",
            " 0.4429 0.4429 0.4429 0.401  0.4    0.389  0.385  0.405  0.405  0.405\n",
            " 0.411  0.411  0.411  0.437  0.437  0.437  0.437  0.437  0.4    0.4\n",
            " 0.4    0.433  0.433  0.433  0.472  0.472  0.472  0.472  0.544  0.544\n",
            " 0.544  0.544  0.544  0.544  0.544  0.544  0.544  0.544  0.544  0.544\n",
            " 0.493  0.493  0.493  0.493  0.493  0.493  0.493  0.493  0.46   0.46\n",
            " 0.46   0.4379 0.4379 0.515  0.515  0.515  0.515  0.515  0.515  0.515\n",
            " 0.515  0.442  0.518  0.484  0.484  0.442  0.442  0.429  0.435  0.429\n",
            " 0.429  0.411  0.411  0.41   0.413  0.413  0.77   0.77   0.77   0.77\n",
            " 0.77   0.77   0.77   0.77   0.718  0.718  0.718  0.631  0.631  0.631\n",
            " 0.631  0.631  0.668  0.668  0.668  0.671  0.671  0.671  0.671  0.671\n",
            " 0.671  0.671  0.7    0.7    0.7    0.7    0.7    0.7    0.7    0.7\n",
            " 0.7    0.7    0.7    0.693  0.693  0.693  0.693  0.693  0.693  0.693\n",
            " 0.693  0.693  0.693  0.693  0.693  0.693  0.659  0.659  0.597  0.597\n",
            " 0.597  0.597  0.597  0.597  0.693  0.679  0.679  0.679  0.679  0.718\n",
            " 0.718  0.718  0.614  0.614  0.584  0.679  0.584  0.679  0.679  0.679\n",
            " 0.584  0.584  0.584  0.713  0.713  0.74   0.74   0.74   0.74   0.74\n",
            " 0.74   0.74   0.74   0.74   0.74   0.74   0.74   0.74   0.713  0.713\n",
            " 0.713  0.713  0.713  0.713  0.713  0.713  0.713  0.713  0.713  0.713\n",
            " 0.713  0.713  0.713  0.713  0.655  0.655  0.655  0.584  0.58   0.58\n",
            " 0.58   0.532  0.58   0.614  0.584  0.584  0.614  0.614  0.614  0.614\n",
            " 0.532  0.532  0.532  0.532  0.583  0.583  0.583  0.583  0.609  0.609\n",
            " 0.609  0.609  0.609  0.585  0.585  0.585  0.585  0.585  0.585  0.585\n",
            " 0.585  0.573  0.573  0.573  0.573  0.573 ]\n",
            "506\n"
          ],
          "name": "stdout"
        }
      ]
    },
    {
      "cell_type": "markdown",
      "metadata": {
        "id": "npiHfMZEuH5U"
      },
      "source": [
        "$$\n",
        "Y^{4}\n",
        "$$\n",
        "#### Target value for 5th house"
      ]
    },
    {
      "cell_type": "code",
      "metadata": {
        "id": "eFNFuaHduH5V",
        "outputId": "47859efe-08ed-419c-be32-53d27c447523",
        "colab": {
          "base_uri": "https://localhost:8080/",
          "height": 34
        }
      },
      "source": [
        "print(house_data[\"target\"][4])"
      ],
      "execution_count": 15,
      "outputs": [
        {
          "output_type": "stream",
          "text": [
            "36.2\n"
          ],
          "name": "stdout"
        }
      ]
    },
    {
      "cell_type": "markdown",
      "metadata": {
        "id": "d_0zdrvYuH5n"
      },
      "source": [
        "Small *x* and *y* are used to represent a *feature* and *target* of a single house\n",
        "#### Which among the following could be valid representation?\n",
        "$$\n",
        "x^{4}\\:, \\: x_{2}\\:,\\:y^{4}\\:,\\:y_{2}\n",
        "$$\n",
        "\n"
      ]
    },
    {
      "cell_type": "code",
      "metadata": {
        "id": "CSCbHwntuH5q"
      },
      "source": [
        "#x"
      ],
      "execution_count": null,
      "outputs": []
    },
    {
      "cell_type": "markdown",
      "metadata": {
        "id": "a3AOikfvyUwL"
      },
      "source": [
        "$$\n",
        "x_{2} , y_{2}\n",
        "$$ are valid representations"
      ]
    }
  ]
}